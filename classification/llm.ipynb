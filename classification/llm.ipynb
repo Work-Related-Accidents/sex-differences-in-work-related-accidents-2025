{
 "cells": [
  {
   "cell_type": "code",
   "execution_count": null,
   "metadata": {},
   "outputs": [],
   "source": []
  },
  {
   "cell_type": "code",
   "execution_count": 84,
   "metadata": {},
   "outputs": [],
   "source": [
    "import os\n",
    "from openai import OpenAI\n",
    "import pandas as pd\n",
    "from os import path\n",
    "import seaborn as sns\n",
    "import matplotlib.pyplot as plt"
   ]
  },
  {
   "cell_type": "code",
   "execution_count": 47,
   "metadata": {},
   "outputs": [],
   "source": [
    "OPENAI_API_KEY = 'your-openai-api-key'\n",
    "\n",
    "client = OpenAI(\n",
    "    api_key=OPENAI_API_KEY,\n",
    ")"
   ]
  },
  {
   "cell_type": "code",
   "execution_count": 8,
   "metadata": {},
   "outputs": [],
   "source": [
    "DATA_ROOT_PATH = '../data'"
   ]
  },
  {
   "cell_type": "markdown",
   "metadata": {},
   "source": [
    "# Data Normalization and Transformation\n",
    "## Getting Unique Normalized Occupations from Accidents Data\n"
   ]
  },
  {
   "cell_type": "code",
   "execution_count": 9,
   "metadata": {},
   "outputs": [],
   "source": [
    "new_achs_accidents_data = path.join(DATA_ROOT_PATH, 'masked','new_achs_accidents_data.csv')"
   ]
  },
  {
   "cell_type": "code",
   "execution_count": 10,
   "metadata": {},
   "outputs": [
    {
     "data": {
      "text/plain": [
       "(44375,)"
      ]
     },
     "execution_count": 10,
     "metadata": {},
     "output_type": "execute_result"
    }
   ],
   "source": [
    "new_achs_accidents_data = pd.read_csv(new_achs_accidents_data)\n",
    "new_occupations = new_achs_accidents_data['ocupacion'].str.lower().unique()\n",
    "\n",
    "new_occupations.shape"
   ]
  },
  {
   "cell_type": "markdown",
   "metadata": {},
   "source": [
    "### Normalization Util"
   ]
  },
  {
   "cell_type": "code",
   "execution_count": 30,
   "metadata": {},
   "outputs": [],
   "source": [
    "import re\n",
    "from unidecode import unidecode\n",
    "\n",
    "def normalize(s):\n",
    "    if not isinstance(s, str):\n",
    "        return s\n",
    "\n",
    "    # Lowercase and remove accents (including ñ → n, ü → u)\n",
    "    s = unidecode(s.lower())\n",
    "\n",
    "    # Replace punctuation and normalize whitespace\n",
    "    s = re.sub(r'[.,]', '', s)        # Remove dots and commas\n",
    "    s = re.sub(r'[-]', ' ', s)        # Replace hyphens with space\n",
    "    s = re.sub(r'\\s+', ' ', s)        # Normalize multiple spaces\n",
    "\n",
    "    return s.strip()\n",
    "\n",
    "\n",
    "assert normalize(\"ÁÉÍÓÚÜÑ\") == \"aeiouun\"\n",
    "assert normalize(\"HE-LLO\") == \"he llo\"\n",
    "assert normalize(\"   HéLLo   \") == \"hello\""
   ]
  },
  {
   "cell_type": "markdown",
   "metadata": {},
   "source": [
    "## Normalize Dataframe"
   ]
  },
  {
   "cell_type": "code",
   "execution_count": null,
   "metadata": {},
   "outputs": [
    {
     "name": "stdout",
     "output_type": "stream",
     "text": [
      "==========NORMALIZED OCCUPATIONS==========\n",
      "\n",
      "Number of unique occupations:  42845\n",
      "    ocupacion\n",
      "0    operario\n",
      "1  supervisor\n",
      "2  mantencion\n",
      "3    mecanico\n",
      "4      cajera\n"
     ]
    }
   ],
   "source": [
    "new_occupations_df = pd.DataFrame(new_occupations, columns=['ocupacion'])\n",
    "new_occupations_df['ocupacion'] = new_occupations_df['ocupacion'].apply(normalize)\n",
    "new_occupations_df['ocupacion'] = new_occupations_df['ocupacion'].str.strip()\n",
    "new_occupations_df = new_occupations_df.drop_duplicates()\n",
    "\n",
    "print(f\"{'='*10}NORMALIZED OCCUPATIONS{'='*10}\\n\")\n",
    "print(\"Number of unique occupations: \", new_occupations_df.shape[0])\n",
    "print(new_occupations_df.head())"
   ]
  },
  {
   "cell_type": "code",
   "execution_count": 39,
   "metadata": {},
   "outputs": [
    {
     "name": "stdout",
     "output_type": "stream",
     "text": [
      "0                        operario\n",
      "1                      supervisor\n",
      "2                      mantencion\n",
      "3                        mecanico\n",
      "4                          cajera\n",
      "                   ...           \n",
      "342356    seleccionadora de fruta\n",
      "342357                  bodeguero\n",
      "342358           operador de grua\n",
      "342359            aux de limpieza\n",
      "342360        tecnico veterinario\n",
      "Name: ocupacion, Length: 342361, dtype: object\n"
     ]
    }
   ],
   "source": [
    "new_achs_accidents_data['ocupacion'] = new_achs_accidents_data['ocupacion'].str.lower()\n",
    "new_achs_accidents_data['ocupacion'] = new_achs_accidents_data['ocupacion'].apply(normalize)\n",
    "new_achs_accidents_data['ocupacion'] = new_achs_accidents_data['ocupacion'].str.strip()\n",
    "\n",
    "print(new_achs_accidents_data['ocupacion'])"
   ]
  },
  {
   "cell_type": "markdown",
   "metadata": {},
   "source": [
    "# Categorization"
   ]
  },
  {
   "cell_type": "code",
   "execution_count": 100,
   "metadata": {},
   "outputs": [],
   "source": [
    "def run_llm(occupation, system_instructions, taxonomies=None):\n",
    "    response = client.chat.completions.create(\n",
    "        model=\"gpt-4o\",\n",
    "        messages=[\n",
    "            {\"role\": \"system\", \"content\": f\"{system_instructions}\"},\n",
    "            {\"role\": \"system\", \"content\": f\"{taxonomies}\"},\n",
    "            {\"role\": \"user\", \"content\": f\"What is the classification of the occupation {occupation}?\"}\n",
    "        ]\n",
    "    )\n",
    "    return response.choices[0].message.content\n",
    "\n",
    "def write_result(index, occupation, response, file_path):\n",
    "    with open(file_path, 'a', encoding='utf-8') as f:\n",
    "        f.write(f'{index},{occupation},{response}\\n')"
   ]
  },
  {
   "cell_type": "code",
   "execution_count": 40,
   "metadata": {},
   "outputs": [],
   "source": [
    "system_instructions = \"\"\"\n",
    "    You will receive some occupation\n",
    "    titles from the user. Your task is to classify them according\n",
    "    to the International Labour Organization occupational\n",
    "    classification system. For instance, Professor, Teacher, and\n",
    "    Preschool Teacher should be categorized under the same class.\n",
    "    Do not assign occupations into managerial classes unless the\n",
    "    occupation title explicitly states so, like ’Company manager’.\n",
    "    Your answer should consist of only the number of the class; for\n",
    "    example, the occupation ’doctor’ should be answered with only '22'.\n",
    "\"\"\""
   ]
  },
  {
   "cell_type": "code",
   "execution_count": 63,
   "metadata": {},
   "outputs": [
    {
     "name": "stdout",
     "output_type": "stream",
     "text": [
      "   code                                        description\n",
      "0    11  Miembros del Poder Ejecutivo y Legislativo, pe...\n",
      "1    12  Directores y gerentes administrativos y de ser...\n",
      "2    13  Directores, gerentes y administradores de prod...\n",
      "3    14  Directores, gerentes y administradores de hote...\n",
      "4    21   Profesionales de las ciencias y de la ingeniería\n",
      "(41, 2)\n",
      "code            int64\n",
      "description    object\n",
      "dtype: object\n"
     ]
    }
   ],
   "source": [
    "principal_subgroups_file_path = path.join(DATA_ROOT_PATH, 'classification', 'principal_subgroups.csv')\n",
    "principal_subgroups = pd.read_csv(principal_subgroups_file_path, sep=';')\n",
    "\n",
    "print(principal_subgroups.head())\n",
    "print(principal_subgroups.shape)\n",
    "print(principal_subgroups.dtypes)"
   ]
  },
  {
   "cell_type": "code",
   "execution_count": 51,
   "metadata": {},
   "outputs": [],
   "source": [
    "def build_categorization_prompt(subgroups_dataframe):\n",
    "    content = \"code;description\\n\"\n",
    "    for index, row in subgroups_dataframe.iterrows():\n",
    "        content += f\"{row['code']};{row['description']}\\n\"\n",
    "    return content\n",
    "\n",
    "categorization_prompt = build_categorization_prompt(principal_subgroups)"
   ]
  },
  {
   "cell_type": "code",
   "execution_count": 65,
   "metadata": {},
   "outputs": [
    {
     "name": "stdout",
     "output_type": "stream",
     "text": [
      "Input occupation:  aux de aseo\n",
      "Output: 91 - Auxiliares de aseo y trabajadores de casa particular\n"
     ]
    }
   ],
   "source": [
    "input_occupation = 'aux de aseo'\n",
    "\n",
    "output_occupation_code = int(run_llm(input_occupation, system_instructions, categorization_prompt))\n",
    "output_occupation_description = principal_subgroups.loc[principal_subgroups['code'] == output_occupation_code, 'description'].values[0]\n",
    "\n",
    "print(\"Input occupation: \", input_occupation)\n",
    "print(\"Output:\", output_occupation_code, \"-\", output_occupation_description)"
   ]
  },
  {
   "cell_type": "code",
   "execution_count": 66,
   "metadata": {},
   "outputs": [],
   "source": [
    "llm_classification_file_path = path.join(DATA_ROOT_PATH, 'outputs', 'llm_classification.csv')"
   ]
  },
  {
   "cell_type": "code",
   "execution_count": 101,
   "metadata": {},
   "outputs": [],
   "source": [
    "def run_classification(output_path, dataframe, system_instructions, categorization_prompt, start_index=0):\n",
    "    for index, occupation in enumerate(dataframe['ocupacion'][start_index:]):\n",
    "        output_occupation_code = int(run_llm(occupation, system_instructions, categorization_prompt))\n",
    "        write_result(index, occupation, output_occupation_code, output_path)\n",
    "\n",
    "    print(f\"Finished processing {len(dataframe)} occupations\")"
   ]
  },
  {
   "cell_type": "code",
   "execution_count": null,
   "metadata": {},
   "outputs": [],
   "source": [
    "run_classification(llm_classification_file_path, new_occupations_df, system_instructions, categorization_prompt, start_index=0)"
   ]
  },
  {
   "cell_type": "code",
   "execution_count": 67,
   "metadata": {},
   "outputs": [
    {
     "name": "stdout",
     "output_type": "stream",
     "text": [
      "  index   ocupacion clasificacion-oit\n",
      "0     0    operario                93\n",
      "1     1  supervisor                12\n",
      "2     2  mantencion                93\n",
      "3     3    mecanico                72\n",
      "4     4      cajera                42\n",
      "(42738, 3)\n",
      "index                object\n",
      "ocupacion            object\n",
      "clasificacion-oit    object\n",
      "dtype: object\n"
     ]
    }
   ],
   "source": [
    "classified_occupations = pd.read_csv(\n",
    "    llm_classification_file_path,\n",
    "    names=['index', 'ocupacion', 'clasificacion-oit'],\n",
    "    on_bad_lines='skip',\n",
    "    header=0\n",
    ")\n",
    "\n",
    "print(classified_occupations.head())\n",
    "print(classified_occupations.shape)\n",
    "print(classified_occupations.dtypes)"
   ]
  },
  {
   "cell_type": "code",
   "execution_count": 69,
   "metadata": {},
   "outputs": [
    {
     "name": "stdout",
     "output_type": "stream",
     "text": [
      "   id_siniestro  tipo_siniestro  numero_paciente  \\\n",
      "0       7242104               2       1007054764   \n",
      "1       7242107               2       1007001523   \n",
      "2       7242197               1       1007055069   \n",
      "3       7242333               1       1003302110   \n",
      "4       7243063               1       1003972578   \n",
      "\n",
      "                                               texto      poblacion  \\\n",
      "0  \\nSTP\\nCONTINUO INDICACION DE MANEJO AMBULATOR...        CHONCHI   \n",
      "1  LEY \\nREPOSO\\nTRASLADO A CEM PARA INSTALAR CAN...      QUILICURA   \n",
      "2  \\n03.01.2022 10:37 RX PIE AP-OBL\\n03.01.2022 1...  ISLA DE MAIPO   \n",
      "3                                            ingreso     TALCAHUANO   \n",
      "4  \\nPARACETAMOL 500 MG (A), ORAL, 500 MG, C/8 HR...   PUERTO MONTT   \n",
      "\n",
      "    ocupacion  edad       sexo  \\\n",
      "0    operario  22.0  masculino   \n",
      "1  supervisor  29.0  masculino   \n",
      "2  mantencion  46.0  masculino   \n",
      "3    mecanico  42.0  masculino   \n",
      "4      cajera  49.0   femenino   \n",
      "\n",
      "                                     relato_admision  mecanismo  \\\n",
      "0  AL MOMENTO DEL ACCIDENTE ESTABA EN LA GARITA E...      12.10   \n",
      "1  AL MOMENTO DEL ACCIDENTE ESTABA CAMINO A MI TR...      12.10   \n",
      "2  AL MOMENTO DEL ACCIDENTE ESTABA SACANDO CUCHIL...      91.20   \n",
      "3  AL MOMENTO DEL ACCIDENTE ESTABA COMPRANDO REPU...      91.15   \n",
      "4  AL MOMENTO DEL ACCIDENTE ESTABA ESPERANDO LOCO...      12.10   \n",
      "\n",
      "  fecha_creacion  region index clasificacion-oit  \n",
      "0     2022-01-03    10.0     0                93  \n",
      "1     2022-01-03    13.0     1                12  \n",
      "2     2022-01-03    13.0     2                93  \n",
      "3     2022-01-03     8.0     3                72  \n",
      "4     2022-01-03    10.0     4                42  \n",
      "(340764, 14)\n",
      "id_siniestro           int64\n",
      "tipo_siniestro         int64\n",
      "numero_paciente        int64\n",
      "texto                 object\n",
      "poblacion             object\n",
      "ocupacion             object\n",
      "edad                 float64\n",
      "sexo                  object\n",
      "relato_admision       object\n",
      "mecanismo            float64\n",
      "fecha_creacion        object\n",
      "region               float64\n",
      "index                 object\n",
      "clasificacion-oit     object\n",
      "dtype: object\n"
     ]
    }
   ],
   "source": [
    "merged_occupations = pd.merge(\n",
    "    new_achs_accidents_data,\n",
    "    classified_occupations,\n",
    "    on='ocupacion',\n",
    "    how='inner'\n",
    ")\n",
    "\n",
    "print(merged_occupations.head())\n",
    "print(merged_occupations.shape)\n",
    "print(merged_occupations.dtypes)"
   ]
  },
  {
   "cell_type": "markdown",
   "metadata": {},
   "source": [
    "### Notes\n",
    "\n",
    "576 Data Points are Lost after the Merge\n",
    "`342017 -> 341441 `"
   ]
  },
  {
   "cell_type": "code",
   "execution_count": 70,
   "metadata": {},
   "outputs": [],
   "source": [
    "classification_codes = ['11', '12', '13', '14',\n",
    "                        '21', '22', '23', '24', '25', '26',\n",
    "                        '31', '32', '33', '34', '35', '36',\n",
    "                        '41', '42', '43', '44',\n",
    "                        '51', '52', '53', '54',\n",
    "                        '61', '62', '63', \n",
    "                        '71', '72', '73', '75',\n",
    "                        '81', '82', '83', \n",
    "                        '91', '92', '93', '94', '95', '96']"
   ]
  },
  {
   "cell_type": "code",
   "execution_count": 77,
   "metadata": {},
   "outputs": [
    {
     "name": "stdout",
     "output_type": "stream",
     "text": [
      "(698, 14)\n"
     ]
    }
   ],
   "source": [
    "not_classified_occupations = merged_occupations[(merged_occupations['clasificacion-oit'] == '00') | (~merged_occupations['clasificacion-oit'].isin(classification_codes))]\n",
    "\n",
    "print(not_classified_occupations.shape)"
   ]
  },
  {
   "cell_type": "code",
   "execution_count": 78,
   "metadata": {},
   "outputs": [
    {
     "name": "stdout",
     "output_type": "stream",
     "text": [
      "<bound method NDFrame.head of 523       no puedo clasificar la ocupación \"no se lo sab...\n",
      "1292                                                     74\n",
      "1936      no puedo clasificar \"programa especial empleo\"...\n",
      "2927      no corresponde a una clasificación específica ...\n",
      "5537      no puedo determinar la clasificación porque \"m...\n",
      "                                ...                        \n",
      "339975                                                   00\n",
      "340127                                                   00\n",
      "340164                                                   00\n",
      "340249                                                   00\n",
      "340263                                                   00\n",
      "Name: clasificacion-oit, Length: 698, dtype: object>\n"
     ]
    }
   ],
   "source": [
    "not_classified_occupations[['ocupacion', 'clasificacion-oit']].drop_duplicates().to_csv('not_classified_occupations.csv', index=False)\n",
    "print(not_classified_occupations['clasificacion-oit'].head)"
   ]
  },
  {
   "cell_type": "code",
   "execution_count": 80,
   "metadata": {},
   "outputs": [
    {
     "name": "stdout",
     "output_type": "stream",
     "text": [
      "(340066, 14)\n"
     ]
    }
   ],
   "source": [
    "merged_occupations = merged_occupations[(merged_occupations['clasificacion-oit'].isin(classification_codes))]\n",
    "print(merged_occupations.shape)"
   ]
  },
  {
   "cell_type": "markdown",
   "metadata": {},
   "source": [
    "We now can get the Unique Classifications in the Merged Occupations"
   ]
  },
  {
   "cell_type": "code",
   "execution_count": 83,
   "metadata": {},
   "outputs": [
    {
     "name": "stdout",
     "output_type": "stream",
     "text": [
      "40\n"
     ]
    }
   ],
   "source": [
    "distinct_classifications = merged_occupations['clasificacion-oit'].nunique()\n",
    "print(distinct_classifications)"
   ]
  },
  {
   "cell_type": "markdown",
   "metadata": {},
   "source": [
    "## Zoom on Occupations Classified as Mining, Construction, Manufacturing and Transport Workers"
   ]
  },
  {
   "cell_type": "code",
   "execution_count": 90,
   "metadata": {},
   "outputs": [
    {
     "name": "stdout",
     "output_type": "stream",
     "text": [
      "(708, 3)\n"
     ]
    }
   ],
   "source": [
    "# First we will Count how many occupations are classified in 93\n",
    "mining_construction_manufacturing_transport_code = '93'\n",
    "\n",
    "classified_occupations_93 = classified_occupations[classified_occupations['clasificacion-oit'] == mining_construction_manufacturing_transport_code]\n",
    "\n",
    "print(classified_occupations_93.shape)"
   ]
  },
  {
   "cell_type": "code",
   "execution_count": 91,
   "metadata": {},
   "outputs": [
    {
     "data": {
      "text/plain": [
       "array(['operario', 'mantencion', 'operario de produccion',\n",
       "       'ayudante soldado r', 'operarios', 'pioneta', 'operario de bodega',\n",
       "       'oepraria', 'operaria', 'ayud trefilado', 'asistente de obra',\n",
       "       'ayudante albañil', 'pintor', 'ayudante avanzado producc',\n",
       "       'ayudante de taller', 'descarga', 'operaria de produccion',\n",
       "       'operario produccion', 'ayudante de carga', 'ayudante soldador',\n",
       "       'ayudante de produccion', 'ayudante en obras', 'filetera',\n",
       "       'peoneta', 'ayudante de electrico', 'logistica pesaje camiones',\n",
       "       'ayudante de planta', 'capataz', 'cargador', 'operario huincha',\n",
       "       'operario logistico', 'ayudante electromecanico', 'packing',\n",
       "       'asistente de reparto', 'operador terreno', 'ayudante de operador',\n",
       "       'tractorista', 'descargador de camion', 'ayudante de maquina',\n",
       "       'ayud soldador', 'maestro terminaciones', 'recibidor de huincha',\n",
       "       'trabajador', 'colocador de royos', 'rigger', 'maestro minero',\n",
       "       'operario junior', 'operaria paking', 'pulidor',\n",
       "       'supervisor de terreno', 'obrero', 'operaria de bodega',\n",
       "       'operadro mina', 'movilizador estibador', 'estivador',\n",
       "       'operario de producion', 'minero 2', 'estibador de carga',\n",
       "       'estibadora', 'operario de poduccion', 'ayudante de pasteleria',\n",
       "       'ayudante de perforacion', 'minero primera', 'operario producion',\n",
       "       'estibador', 'operaria picking', 'manipuladora arcas',\n",
       "       'excabacion y otros', 'operario cargador', 'mantenedor mina',\n",
       "       'minero operador', 'excavador', 'pilero', 'operaria produccion',\n",
       "       'repaletizadora', 'descargador y cargador', 'cot losa',\n",
       "       'frigorifico', 'ayudante de gasfiter', 'labores de mantencion',\n",
       "       'obrero produccion', 'operario minero', 'operario de carga',\n",
       "       'mantencion vial', 'operaria de cuadrilla', 'm2',\n",
       "       'suminstro de piso', 'ayudante de enfierrador', 'minero mantendor',\n",
       "       'ayudante de panaderia', 'operario en mina', 'ayudante de oficial',\n",
       "       'operaria de packing', 'minero', 'embaladora y pesadora',\n",
       "       'opearario', 'obrera', 'minero de primera', 'ayudante sondaje',\n",
       "       'operador minero 2', 'cargador despachador', 'piqueador',\n",
       "       'operario bodeguero', 'operador minero', 'manipulador de carne',\n",
       "       'auxiliar de alimetacion', 'ayudante de caldelero', 'pique',\n",
       "       'capataz de grupo', 'contratista', 'operario de bodegas',\n",
       "       'operaria de picking', 'descolgado de mortadela',\n",
       "       'ayudante gasfiter', 'poperario de bodega', 'operarria',\n",
       "       'oiperario de produccion', 'operarios produccion', 'bollera',\n",
       "       'ayudante yalero', 'operaria de base', 'obrero ayudante',\n",
       "       'operario descarga', 'operaria planta',\n",
       "       'jugador de futbol profesi', 'peon de construccion',\n",
       "       'trabajador operario', 'ayudante minero', 'operario industrial',\n",
       "       'desmantelador', 'jornalera', 'operaria de pikking', 'servel',\n",
       "       'flotador', 'limpiador de fieroo', 'm1 minero',\n",
       "       'operario deproduccion', 'operaria fabrica', 'fraccionador',\n",
       "       'ladillera', 'despostador carniceria', 'perforo',\n",
       "       'trabajadora produccion', 'operario faena', 'operario matadero',\n",
       "       'minitor de taller', 'tunelero', 'pilero en mina', 'reproceso',\n",
       "       'encargado temperatura', 'embarcador de carga', 'operario senior',\n",
       "       'marinero de cubierta', 'tens en rayo', 'operario de bdega',\n",
       "       'tripulante descargador', 'operio', 'oeprario',\n",
       "       'operaio de bodega', 'cargador de camiones', 'prefabricado',\n",
       "       'mantenedora mina', 'aydante perforacion', 'ayudante enfierrador',\n",
       "       'asistente de capataz', 'operario producccion',\n",
       "       'obrero de produccion', 'operario de lavanderia', 'operadora mina',\n",
       "       'lavador pintor', 'sellado de cajas', 'prospector',\n",
       "       'opeario de pozo', 'operraio', 'oeprario produccion', 'meatro',\n",
       "       'ayudante de carnicero', 'operadora de mina', 'operario y bodega',\n",
       "       'cargador de tiro', 'lavado y carga', 'cunetero', 'operador mina',\n",
       "       'rmfierrador', 'molera', 'operador equipo mina',\n",
       "       'ooperario de produccion', 'operario de carga rampa',\n",
       "       'minero de segunda', 'opearrio de seleccion', 'carrier',\n",
       "       'ayudante tabiquero', 'operaria varios', 'escabador',\n",
       "       'op produccion y bodega', 'cargador y peoneta',\n",
       "       'operario carniceria', 'pollero', 'marinado',\n",
       "       'operario materias primas', 'minero operacion',\n",
       "       'funcion colaborador indus', 'produccion de bodega',\n",
       "       'jornal operario', 'supervisor empaque', 'operia de industrial',\n",
       "       'operarios de produccion', 'ayudante de jamonero', 'oprario',\n",
       "       'minero 1', 'jornal y pintor', 'cargador y despachador',\n",
       "       'pickent manual', 'operario de fabrica', 'estibadores',\n",
       "       'capataz general', 'operador equipos mina', 'gelatera',\n",
       "       'obrero barraca', 'encardo recepcion de acei', 'estibador bodega',\n",
       "       'embarcador', 'ayudante pintin', 'operario mina',\n",
       "       'ayudante minero m2', 'operaria industrial',\n",
       "       'operador de extraccion', 'cargador de combustible',\n",
       "       'operario en triperia', 'segundo oficial',\n",
       "       'supervisor enfierraduras', 'colaborador indust', 'obrero n2',\n",
       "       'operaio de produccion', 'ayudante de urbanizacion',\n",
       "       'operario de deposito', 'jugador de futbol',\n",
       "       'embolsadora de carne', 'operario de carga y desca',\n",
       "       'ayduante obrero', 'oiperario', 'asiste de produccion',\n",
       "       'obrero municipal cargado', 'operaria de piking',\n",
       "       'jugadora de futbol', 'bodeguero perfiero', 'tempopera',\n",
       "       'ayudante prodccion', 'labores de obrero', 'ayudante mineria',\n",
       "       'volante de estruccion', 'jefe de mina', 'aspirante de cubierta',\n",
       "       'cargador estivador', 'operaria de fabrica', 'operria',\n",
       "       'maestro demolicion', 'oprario de produccion', 'guillotinero',\n",
       "       'embolsador', 'capatas b', 'amarrador', 'operrio de produccion',\n",
       "       'm2 tapado y retiro', 'operaria de prodcuccion', 'm horno',\n",
       "       'operaria de desposte', 'operario y peoneta', 'movilizar',\n",
       "       'operariode produccion', 'cargador de cajas', 'jugador de fultbol',\n",
       "       'operario bodeguera', 'trabajador rotativo',\n",
       "       'ayudante de prodcuccion', 'operador de mina',\n",
       "       'operaia produccion', 'encargado cancha practica',\n",
       "       'operario de prodcuccion', 'corchando mangueras', 'yalera',\n",
       "       'certificar y jefe de faen', 'operariop de produccion',\n",
       "       'operador minera', 'perforador', 'manipulador de cuchillos',\n",
       "       'joenal', 'reponedor de patio constr', 'ayudante de tostacion',\n",
       "       'embalador y cargador', 'reponedor patio construcc',\n",
       "       'minero primero', 'ayudante de minera', 'movilizador uno',\n",
       "       'operario carga y descarga', 'area de mantencion',\n",
       "       'oeprario de produccion', 'cargador peoneta', 'volcador',\n",
       "       'amarradora', 'operario produccoon', 'aistente de produccion',\n",
       "       'jefa de packing', 'operador minero mantenedo',\n",
       "       'operaria de producccion', 'barmant', 'operario de bodega gruero',\n",
       "       'jefa de empaque', 'operario de tunel', 'bodeguero y otros',\n",
       "       'temporero produccion', 'operaria de matadero',\n",
       "       'mantencion piscinas', 'barrenera', 'operario barista',\n",
       "       'operario de temporada', 'mano de obra', 'refuerzo de produccion',\n",
       "       'lipieza de vidrio', 'obrero desinfeccion', 'ayudante de minero',\n",
       "       'play out', 'trabajadora de packing', 'jornalero concretero',\n",
       "       'cargador pioneta', 'operaria enp planta', 'vidriero y aseo',\n",
       "       'limpiador de acero', 'operario de lixibiacion',\n",
       "       'pickeador y revisor', 'buzo mariscal', 'huinchero yesero',\n",
       "       'operario en produccion', 'oficial de perforo',\n",
       "       'mecanico en minera', 'operario de matadero',\n",
       "       'ayudante de produccuin', 'operador minero dos',\n",
       "       'destinador area filete', 'jornal excavacion',\n",
       "       'ayudante de relave', 'operaria descarga',\n",
       "       'ayudante de produccion te', 'manipulador de bodega', 'mina ug',\n",
       "       'laminadora de quesos', 'operario de prodiuccion',\n",
       "       'cargador de tiros', 'pantelero cementerio', 'cubridor',\n",
       "       'auxiliar de faena industr', 'sellado', 'ayudante de la planta',\n",
       "       'ayudante en excavacion ob', 'obrero de la construccion',\n",
       "       'operario tronadura', 'operario principiante',\n",
       "       'ayudante d produccion', 'jornal operaria',\n",
       "       'lentora y repartidora', 'capataz de muelle', 'central mina',\n",
       "       'operrio', 'carga y descarga camion', 'obrera textil',\n",
       "       'operario basico', 'inspector minero', 'ayudante de producccion',\n",
       "       'tunelera', 'opraria', 'operaria de riles', 'sale adbison',\n",
       "       'aux linea produccion', 'operaria logistico',\n",
       "       'obrero terminaciones', 'capataz de urbanizacion',\n",
       "       'ayud desarmaduria', 'polvorinero', 'carnicero de matadero',\n",
       "       'operario camanchaca', 'operraio faena', 'ayudante en pintura',\n",
       "       'supervisor minero', 'operario manual', 'ayudante de bahia',\n",
       "       'pikeador', 'abocador', 'estivador de bodegas',\n",
       "       'ayudando de produccion', 'servicio de mina', 'opeardor mina',\n",
       "       'ayudante molienda', 'operarios manufacturas', 'ayudante de faena',\n",
       "       'nivelador', 'operaria e bodega', 'asiste de rreposteria',\n",
       "       'jefe turno mina', 'minero segunda', 'operario de exportaciones',\n",
       "       'cortador en carne', 'area de pos produccion',\n",
       "       'operario de carga de equi', 'maestro subterraneo', 'm2 en mina',\n",
       "       'subencargado de panaderia', 'operario trabajador manua',\n",
       "       'operario planta chancado', 'descargador contenedores',\n",
       "       'embalador cargador', 'operario de sondaje', 'operario jornal',\n",
       "       'operario de prodeccion', 'ayudanted e produccion',\n",
       "       'operario de producccion', 'operaro carga y descarga',\n",
       "       'ayudante marmolero', 'operario base', 'ayudantede produccion',\n",
       "       'operario de soldado', 'chancador', 'capataz oocc', 'sincador',\n",
       "       'transpaletero planta', 'encargado de cuadrillas',\n",
       "       'operario carga y descarg', 'ayud de produccion',\n",
       "       'ayudante maniobra', 'consolidador de pallets',\n",
       "       'ayudante de jefe faena', 'jornal completo',\n",
       "       'cargador ayuda cilindro', 'operaria de producion',\n",
       "       'cargador ayudante', 'mano obra general', 'capataz de mineria',\n",
       "       'seccion parmesano', 'opeararia', 'opertivo de bodega',\n",
       "       'operarioa de produccion', 'toa', 'operario de aeso',\n",
       "       'aux de molienda', 'operario en faena', 'pesaje final',\n",
       "       'reemplazo ordeñador', 'maestro peoneta capataz',\n",
       "       'operaria de pruccion', 'oopearia', 'reparador de pallets',\n",
       "       'descarga y carga', 'operaria multiuso', 'picador',\n",
       "       'capataz minero', 'piquiadora en bodega', 'operaria de bandejas',\n",
       "       'manipulador de carga', 'oprerario', 'desconche',\n",
       "       'despachador mina', 'revolvedor', 'ayudante generador de pla',\n",
       "       'ayudante de producion', 'ayudante de produciion', 'operdaor mina',\n",
       "       'minero mantenedor', 'operario club', 'extraportuaria',\n",
       "       'operaria de pedido', 'ayudante de cabezal',\n",
       "       'operario faenas generales', 'picador a', 'trabajador industrial',\n",
       "       'trabajador de planta', 'picking de embalaje',\n",
       "       'operador serv mina', 'operador scoop interior mina',\n",
       "       'operaro de bodega', 'operario de procuccion', 'demoledor',\n",
       "       'pandero', 'jornal minero', 'ayudante de rodadores',\n",
       "       'perario de produccion', 'operario productivo',\n",
       "       'operador mayor mina', 'operario fabrica de cecin',\n",
       "       'obrero en conservas', 'obrero de suelo', 'opraria de poduccion',\n",
       "       'auxiliar de baldosas', 'operario fabrica',\n",
       "       'obreador de la plasma', 'cargador camion', 'enganche',\n",
       "       'ayudante enfierrrador', 'encargada de entrega',\n",
       "       'operario de procucion', 'mediera', 'pañuelero',\n",
       "       'ooperaria de produccion', 'operador servicios min', 'envalador',\n",
       "       'operario de prudccion', 'manipulador explosivos',\n",
       "       'operrio de bodega', 'buzo supervisor', 'segundo capataz',\n",
       "       'refrectario', 'operaria y manipuladora', 'minero ii',\n",
       "       'encargada perecibles', 'cargador linea produccion',\n",
       "       'cofer y descarga', 'ayudente en mina', 'm2 minero',\n",
       "       'operario de produciion', 'mecanico int mina',\n",
       "       'operaria preparando mate', 'ayudante produccion junio',\n",
       "       'rotisero carnicero', 'mineria m2', 'cuadrilla rueda de moldeo',\n",
       "       'minero perforista', 'bodeguero envasador', 'aculatador',\n",
       "       'operario manufactura', 'preparacion vegetales',\n",
       "       'operariao de produccion', 'opwerario', 'pioneta de tolva',\n",
       "       'fabricacion', 'mina open pit', 'operaria lavado bandeja',\n",
       "       'operaria de planchado', 'operaria aspirante',\n",
       "       'minero operador mantenedo', 'operario de casino',\n",
       "       'asistente de mina', 'obrero de mantencion', 'ayudante de peas',\n",
       "       'opertario de produccion', 'ayudante de enfierradura', 'opewrario',\n",
       "       'lector y repartidor de le', 'operiria', 'obrero logistica',\n",
       "       'asistente en produccion', 'carga camiones', 'mantenedor en mina',\n",
       "       'encargado de congelados', 'operario d produccion',\n",
       "       'oper bodega  cargador', 'lavador de cubas',\n",
       "       'jornal en construccion', 'asitente de produccion',\n",
       "       'supervisora deshuesado', 'maestro 1 de andamios', 'amasijo',\n",
       "       'jefe de desposte', 'sub benente', 'lavador de automovil',\n",
       "       'pony boys', 'cam industria carniga', 'jornal demolicion',\n",
       "       'trabajador obrero', 'peoneta bodega', 'escarpador',\n",
       "       'operario destroce', 'opearrio', 'operario e produccion',\n",
       "       'opararia de produccion', 'operaria general',\n",
       "       'operario empalillado', 'operario carg y descarg', 'congretero',\n",
       "       'minero especialista', 'cocretero', 'operario de cargas',\n",
       "       'runner de produccion', 'descarga y carga de conte',\n",
       "       'cargadora de camion', 'ayudante de tunelero',\n",
       "       'operario descargador', 'peones de carga', 'barrenador',\n",
       "       'cargador de bodega', 'materialero', 'manipuladorea de verduras',\n",
       "       'operario de afabrica', 'trabajo de obra', 'jornal de logistica',\n",
       "       'obero', 'enc contro lcalidad', 'ayudante produccion yunio',\n",
       "       'auxiliar de chancado', 'back coffee', 'op de equipos mineros',\n",
       "       'obrero construccion', 'segundo de bodega', 'ing en mina',\n",
       "       'manipulador productos hid', 'operador de lixiasion',\n",
       "       'operraio despacho', 'ayudante petrolero', 'señalizacion ruta',\n",
       "       'masntencion', 'operario en faenaminto', 'decarga',\n",
       "       'descargador de camiones', 'ayudante de staker',\n",
       "       'maestro minero segundo', 'operario de subproducto',\n",
       "       'jugador de foodball', 'auxiliar de producion', 'm dos minero',\n",
       "       'operario de segregacion', 'ayudante de chancado',\n",
       "       'operario temporal', 'jefe de turno de mina', 'sub jede panaderia',\n",
       "       'peones de la construccion', 'ayudante de cubiertas',\n",
       "       'ayudante gral produccion', 'ayudante armaduria',\n",
       "       'multifuncional produccion', 'minero carpintero',\n",
       "       'operaria de prodccion', 'molino', 'operaria de palets',\n",
       "       'capataz lider', 'despachador de mina', 'operario galponero',\n",
       "       'bodeguero senior', 'operario secundario',\n",
       "       'ayyudante de produccion', 'operador de equipo mina',\n",
       "       'cuadrilla de puente', 'operarrio de cuadrilla', 'obreros',\n",
       "       'cargadorz', 'camara', 'operario de renta', 'ayudante de trozador',\n",
       "       'vidriero limpieza vidrios', 'despeje de camino',\n",
       "       'enfierrador obrero', 'descargadora de acido sul',\n",
       "       'encargada de serv al cl', 'capataz junior', 'chapa',\n",
       "       'ayudante manipulacion ali', 'operario bodega camara fr',\n",
       "       'operario der produccion', 'operaria de bodega de ela',\n",
       "       'enganche//carga nacional', 'noqueador', 'abrero',\n",
       "       'jfe de cuadrilla', 'operario partime', 'reparto en terreno',\n",
       "       'manipuladora alim', 'auxiliar de gasfiter',\n",
       "       'operaria de ohiggins', 'cuarteador', 'operario produccion b',\n",
       "       'ayudante de carga camion', 'consolidador de carga',\n",
       "       'operoario mutifuncional', 'operario de prodduccion', 'obrerta',\n",
       "       'operaria de packink super', 'chancadora', 'ayudante de bloquera',\n",
       "       'eperario', 'ayudante avan de gasfiter', 'apoyo en produccion',\n",
       "       'estibador portuario', 'oeprario de carga y desca',\n",
       "       'ayudante industrial', 'ayduante sondaje', 'operario altillo',\n",
       "       'm2 operario minero', 'estivador de carga',\n",
       "       'logistica carga y descarg', 'pintor y ayudante',\n",
       "       'operario poduccion', 'trabajador de tuneles', 'operaro',\n",
       "       'auxiliar piezzero', 'minero dos', 'operario corta canales',\n",
       "       'operdora mina aprendiz', 'oerario', 'embasado de pan',\n",
       "       'aspirando y lavado autos', 'operario de chancado',\n",
       "       'minero de 1ra', 'servicio mina', 'rotulador',\n",
       "       'mantencion de calles', 'opraruio de matadero',\n",
       "       'ayudante de cuarto frio', 'limpieza diques',\n",
       "       'operario de terreno y tal', 'descargador pioneta', 'ornero',\n",
       "       'operario de productividad'], dtype=object)"
      ]
     },
     "execution_count": 91,
     "metadata": {},
     "output_type": "execute_result"
    }
   ],
   "source": [
    "classified_occupations_93['ocupacion'].unique()"
   ]
  },
  {
   "cell_type": "code",
   "execution_count": 93,
   "metadata": {},
   "outputs": [],
   "source": [
    "instruction_93_classifications = \"\"\"\n",
    "You will receive some occupation\n",
    "titles from the user and a table for the International Labour\n",
    "Organization (ILO) occupational classification system. Your task\n",
    "is to classify the occupations into one of the ILO’s classes.\n",
    "For instance, Operator, Production Operator, and Operations\n",
    "Assistant should be under the same class. It is important that\n",
    "you reply only with the class number. Provide the most probable\n",
    "class; for example, for ’dam cleaning’, answer with ’933’.\n",
    "\"\"\""
   ]
  },
  {
   "cell_type": "code",
   "execution_count": 92,
   "metadata": {},
   "outputs": [],
   "source": [
    "system_prompt = \"\"\"\n",
    "code;description\n",
    "931;Obreros de la minería y la construcción\n",
    "932;Empacadores manuales y obreros de la industria manufacturera\n",
    "933;Obreros del transporte y almacenamiento\n",
    "\"\"\""
   ]
  },
  {
   "cell_type": "code",
   "execution_count": 96,
   "metadata": {},
   "outputs": [
    {
     "name": "stdout",
     "output_type": "stream",
     "text": [
      "932\n"
     ]
    }
   ],
   "source": [
    "occupation = 'ayudante avanzado producc'\n",
    "\n",
    "occupation_code = run_llm(occupation, instruction_93_classifications, system_prompt)\n",
    "print(occupation_code)"
   ]
  },
  {
   "cell_type": "code",
   "execution_count": 109,
   "metadata": {},
   "outputs": [],
   "source": [
    "class_93_output_path = path.join(DATA_ROOT_PATH, 'outputs', 'llm_classification_93.csv')"
   ]
  },
  {
   "cell_type": "code",
   "execution_count": null,
   "metadata": {},
   "outputs": [],
   "source": [
    "run_classification(class_93_output_path, classified_occupations_93, instruction_93_classifications, system_prompt)"
   ]
  },
  {
   "cell_type": "code",
   "execution_count": 111,
   "metadata": {},
   "outputs": [],
   "source": [
    "classified_occupations_93 = pd.read_csv(class_93_output_path, names=['index', 'ocupacion', 'clasificacion-oit'], on_bad_lines='skip', dtype={'index': int, 'ocupacion': str, 'clasificacion-oit': str})\n"
   ]
  },
  {
   "cell_type": "code",
   "execution_count": 112,
   "metadata": {},
   "outputs": [
    {
     "data": {
      "text/html": [
       "<div>\n",
       "<style scoped>\n",
       "    .dataframe tbody tr th:only-of-type {\n",
       "        vertical-align: middle;\n",
       "    }\n",
       "\n",
       "    .dataframe tbody tr th {\n",
       "        vertical-align: top;\n",
       "    }\n",
       "\n",
       "    .dataframe thead th {\n",
       "        text-align: right;\n",
       "    }\n",
       "</style>\n",
       "<table border=\"1\" class=\"dataframe\">\n",
       "  <thead>\n",
       "    <tr style=\"text-align: right;\">\n",
       "      <th></th>\n",
       "      <th>index</th>\n",
       "      <th>ocupacion</th>\n",
       "      <th>clasificacion-oit</th>\n",
       "    </tr>\n",
       "  </thead>\n",
       "  <tbody>\n",
       "    <tr>\n",
       "      <th>0</th>\n",
       "      <td>0</td>\n",
       "      <td>operario</td>\n",
       "      <td>932</td>\n",
       "    </tr>\n",
       "    <tr>\n",
       "      <th>1</th>\n",
       "      <td>1</td>\n",
       "      <td>mantencion</td>\n",
       "      <td>931</td>\n",
       "    </tr>\n",
       "    <tr>\n",
       "      <th>2</th>\n",
       "      <td>2</td>\n",
       "      <td>operario de produccion</td>\n",
       "      <td>932</td>\n",
       "    </tr>\n",
       "    <tr>\n",
       "      <th>3</th>\n",
       "      <td>3</td>\n",
       "      <td>ayudante soldado r</td>\n",
       "      <td>931</td>\n",
       "    </tr>\n",
       "    <tr>\n",
       "      <th>4</th>\n",
       "      <td>4</td>\n",
       "      <td>operarios</td>\n",
       "      <td>932</td>\n",
       "    </tr>\n",
       "    <tr>\n",
       "      <th>...</th>\n",
       "      <td>...</td>\n",
       "      <td>...</td>\n",
       "      <td>...</td>\n",
       "    </tr>\n",
       "    <tr>\n",
       "      <th>705</th>\n",
       "      <td>705</td>\n",
       "      <td>descargador pioneta</td>\n",
       "      <td>933</td>\n",
       "    </tr>\n",
       "    <tr>\n",
       "      <th>706</th>\n",
       "      <td>706</td>\n",
       "      <td>ornero</td>\n",
       "      <td>931</td>\n",
       "    </tr>\n",
       "    <tr>\n",
       "      <th>707</th>\n",
       "      <td>707</td>\n",
       "      <td>operario de productividad</td>\n",
       "      <td>932</td>\n",
       "    </tr>\n",
       "    <tr>\n",
       "      <th>708</th>\n",
       "      <td>0</td>\n",
       "      <td>operario</td>\n",
       "      <td>931</td>\n",
       "    </tr>\n",
       "    <tr>\n",
       "      <th>709</th>\n",
       "      <td>1</td>\n",
       "      <td>mantencion</td>\n",
       "      <td>931</td>\n",
       "    </tr>\n",
       "  </tbody>\n",
       "</table>\n",
       "<p>710 rows × 3 columns</p>\n",
       "</div>"
      ],
      "text/plain": [
       "     index                  ocupacion clasificacion-oit\n",
       "0        0                   operario               932\n",
       "1        1                 mantencion               931\n",
       "2        2     operario de produccion               932\n",
       "3        3         ayudante soldado r               931\n",
       "4        4                  operarios               932\n",
       "..     ...                        ...               ...\n",
       "705    705        descargador pioneta               933\n",
       "706    706                     ornero               931\n",
       "707    707  operario de productividad               932\n",
       "708      0                   operario               931\n",
       "709      1                 mantencion               931\n",
       "\n",
       "[710 rows x 3 columns]"
      ]
     },
     "execution_count": 112,
     "metadata": {},
     "output_type": "execute_result"
    }
   ],
   "source": [
    "classified_occupations_93"
   ]
  }
 ],
 "metadata": {
  "kernelspec": {
   "display_name": "Python 3",
   "language": "python",
   "name": "python3"
  },
  "language_info": {
   "codemirror_mode": {
    "name": "ipython",
    "version": 3
   },
   "file_extension": ".py",
   "mimetype": "text/x-python",
   "name": "python",
   "nbconvert_exporter": "python",
   "pygments_lexer": "ipython3",
   "version": "3.12.5"
  }
 },
 "nbformat": 4,
 "nbformat_minor": 2
}
